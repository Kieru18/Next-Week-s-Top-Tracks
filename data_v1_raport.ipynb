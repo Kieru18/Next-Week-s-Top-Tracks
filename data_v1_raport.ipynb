{
 "cells": [
  {
   "cell_type": "markdown",
   "metadata": {},
   "source": [
    "# Raport o danych - V1"
   ]
  },
  {
   "cell_type": "code",
   "execution_count": 1,
   "metadata": {},
   "outputs": [],
   "source": [
    "import pandas as pd\n",
    "import numpy as np\n",
    "import matplotlib.pyplot as plt\n",
    "import json"
   ]
  },
  {
   "cell_type": "code",
   "execution_count": 2,
   "metadata": {},
   "outputs": [],
   "source": [
    "DIR_DATA = 'data/v1'"
   ]
  },
  {
   "cell_type": "code",
   "execution_count": 3,
   "metadata": {},
   "outputs": [],
   "source": [
    "artists = pd.read_json(path_or_buf=f'{DIR_DATA}/artists.jsonl', lines=True)\n",
    "sessions = pd.read_json(path_or_buf=f'{DIR_DATA}/sessions.jsonl', lines=True)\n",
    "tracks = pd.read_json(path_or_buf=f'{DIR_DATA}/tracks.jsonl', lines=True)"
   ]
  },
  {
   "cell_type": "markdown",
   "metadata": {},
   "source": [
    "## Artists"
   ]
  },
  {
   "cell_type": "code",
   "execution_count": 4,
   "metadata": {},
   "outputs": [
    {
     "data": {
      "text/html": [
       "<div>\n",
       "<style scoped>\n",
       "    .dataframe tbody tr th:only-of-type {\n",
       "        vertical-align: middle;\n",
       "    }\n",
       "\n",
       "    .dataframe tbody tr th {\n",
       "        vertical-align: top;\n",
       "    }\n",
       "\n",
       "    .dataframe thead th {\n",
       "        text-align: right;\n",
       "    }\n",
       "</style>\n",
       "<table border=\"1\" class=\"dataframe\">\n",
       "  <thead>\n",
       "    <tr style=\"text-align: right;\">\n",
       "      <th></th>\n",
       "      <th>id</th>\n",
       "      <th>name</th>\n",
       "      <th>genres</th>\n",
       "    </tr>\n",
       "  </thead>\n",
       "  <tbody>\n",
       "    <tr>\n",
       "      <th>0</th>\n",
       "      <td>7jVv8c5Fj3E9VhNjxT4snq</td>\n",
       "      <td>Lil Nas X</td>\n",
       "      <td>[country rap, lgbtq+ hip hop, pop rap, queer c...</td>\n",
       "    </tr>\n",
       "    <tr>\n",
       "      <th>1</th>\n",
       "      <td>0xRXCcSX89eobfrshSVdyu</td>\n",
       "      <td>MEDUZA</td>\n",
       "      <td>[dance pop, edm, pop dance, pop house, tropica...</td>\n",
       "    </tr>\n",
       "    <tr>\n",
       "      <th>2</th>\n",
       "      <td>3OKg7YbOIatODzkRIbLJR4</td>\n",
       "      <td>TheFatRat</td>\n",
       "      <td>[speedrun]</td>\n",
       "    </tr>\n",
       "    <tr>\n",
       "      <th>3</th>\n",
       "      <td>-1</td>\n",
       "      <td>Tanishk Bagchi</td>\n",
       "      <td>[desi pop, filmi, modern bollywood]</td>\n",
       "    </tr>\n",
       "    <tr>\n",
       "      <th>4</th>\n",
       "      <td>56mfhUDKa1vec6rSLZV5Eg</td>\n",
       "      <td>Jawsh 685</td>\n",
       "      <td>[nz pop]</td>\n",
       "    </tr>\n",
       "  </tbody>\n",
       "</table>\n",
       "</div>"
      ],
      "text/plain": [
       "                       id            name  \\\n",
       "0  7jVv8c5Fj3E9VhNjxT4snq       Lil Nas X   \n",
       "1  0xRXCcSX89eobfrshSVdyu          MEDUZA   \n",
       "2  3OKg7YbOIatODzkRIbLJR4       TheFatRat   \n",
       "3                      -1  Tanishk Bagchi   \n",
       "4  56mfhUDKa1vec6rSLZV5Eg       Jawsh 685   \n",
       "\n",
       "                                              genres  \n",
       "0  [country rap, lgbtq+ hip hop, pop rap, queer c...  \n",
       "1  [dance pop, edm, pop dance, pop house, tropica...  \n",
       "2                                         [speedrun]  \n",
       "3                [desi pop, filmi, modern bollywood]  \n",
       "4                                           [nz pop]  "
      ]
     },
     "execution_count": 4,
     "metadata": {},
     "output_type": "execute_result"
    }
   ],
   "source": [
    "artists.head()"
   ]
  },
  {
   "cell_type": "markdown",
   "metadata": {},
   "source": [
    "Już tu można zaobserwować pewną anomalię: -1 jest wartością id znacznie różniącą się od innych. Po sprawdzeniu unikalności tego atrybutu, okazało się że wartość -1 pojawia się aż 91 razy."
   ]
  },
  {
   "cell_type": "code",
   "execution_count": 5,
   "metadata": {},
   "outputs": [
    {
     "name": "stdout",
     "output_type": "stream",
     "text": [
      "-1    91\n",
      "Name: id, dtype: int64\n"
     ]
    }
   ],
   "source": [
    "non_unique_ids = artists['id'].value_counts().loc[lambda x: x > 1]\n",
    "print(non_unique_ids)"
   ]
  },
  {
   "cell_type": "code",
   "execution_count": 6,
   "metadata": {},
   "outputs": [
    {
     "name": "stdout",
     "output_type": "stream",
     "text": [
      "<class 'pandas.core.frame.DataFrame'>\n",
      "RangeIndex: 1667 entries, 0 to 1666\n",
      "Data columns (total 3 columns):\n",
      " #   Column  Non-Null Count  Dtype \n",
      "---  ------  --------------  ----- \n",
      " 0   id      1667 non-null   object\n",
      " 1   name    1667 non-null   object\n",
      " 2   genres  1585 non-null   object\n",
      "dtypes: object(3)\n",
      "memory usage: 39.2+ KB\n"
     ]
    }
   ],
   "source": [
    "artists.info()"
   ]
  },
  {
   "cell_type": "code",
   "execution_count": 17,
   "metadata": {},
   "outputs": [
    {
     "data": {
      "text/plain": [
       "id         0\n",
       "name       0\n",
       "genres    82\n",
       "dtype: int64"
      ]
     },
     "execution_count": 17,
     "metadata": {},
     "output_type": "execute_result"
    }
   ],
   "source": [
    "artists.isnull().sum()"
   ]
  },
  {
   "cell_type": "markdown",
   "metadata": {},
   "source": [
    "Atrybut genres ma 82 puste wartości."
   ]
  },
  {
   "cell_type": "markdown",
   "metadata": {},
   "source": [
    "## Sessions"
   ]
  },
  {
   "cell_type": "code",
   "execution_count": 7,
   "metadata": {},
   "outputs": [
    {
     "data": {
      "text/html": [
       "<div>\n",
       "<style scoped>\n",
       "    .dataframe tbody tr th:only-of-type {\n",
       "        vertical-align: middle;\n",
       "    }\n",
       "\n",
       "    .dataframe tbody tr th {\n",
       "        vertical-align: top;\n",
       "    }\n",
       "\n",
       "    .dataframe thead th {\n",
       "        text-align: right;\n",
       "    }\n",
       "</style>\n",
       "<table border=\"1\" class=\"dataframe\">\n",
       "  <thead>\n",
       "    <tr style=\"text-align: right;\">\n",
       "      <th></th>\n",
       "      <th>session_id</th>\n",
       "      <th>timestamp</th>\n",
       "      <th>user_id</th>\n",
       "      <th>track_id</th>\n",
       "      <th>event_type</th>\n",
       "    </tr>\n",
       "  </thead>\n",
       "  <tbody>\n",
       "    <tr>\n",
       "      <th>0</th>\n",
       "      <td>124</td>\n",
       "      <td>2023-07-15 16:49:17.000</td>\n",
       "      <td>101.0</td>\n",
       "      <td>4YPgTCGJWAlHQ5g6eWoM8r</td>\n",
       "      <td>play</td>\n",
       "    </tr>\n",
       "    <tr>\n",
       "      <th>1</th>\n",
       "      <td>125</td>\n",
       "      <td>2023-06-22 07:25:03.547</td>\n",
       "      <td>101.0</td>\n",
       "      <td>4p8QcNkaq2FQj8uGJ7HEDK</td>\n",
       "      <td>play</td>\n",
       "    </tr>\n",
       "    <tr>\n",
       "      <th>2</th>\n",
       "      <td>125</td>\n",
       "      <td>2023-06-22 07:29:23.814</td>\n",
       "      <td>101.0</td>\n",
       "      <td>4GKk1uNzpxIptBuaY97Dkj</td>\n",
       "      <td>play</td>\n",
       "    </tr>\n",
       "    <tr>\n",
       "      <th>3</th>\n",
       "      <td>125</td>\n",
       "      <td>2023-06-22 07:32:53.270</td>\n",
       "      <td>101.0</td>\n",
       "      <td>4GKk1uNzpxIptBuaY97Dkj</td>\n",
       "      <td>like</td>\n",
       "    </tr>\n",
       "    <tr>\n",
       "      <th>4</th>\n",
       "      <td>125</td>\n",
       "      <td>2023-06-22 07:34:23.481</td>\n",
       "      <td>101.0</td>\n",
       "      <td>0ZO2iSS12JTftv10cSCYf8</td>\n",
       "      <td>play</td>\n",
       "    </tr>\n",
       "  </tbody>\n",
       "</table>\n",
       "</div>"
      ],
      "text/plain": [
       "   session_id               timestamp  user_id                track_id  \\\n",
       "0         124 2023-07-15 16:49:17.000    101.0  4YPgTCGJWAlHQ5g6eWoM8r   \n",
       "1         125 2023-06-22 07:25:03.547    101.0  4p8QcNkaq2FQj8uGJ7HEDK   \n",
       "2         125 2023-06-22 07:29:23.814    101.0  4GKk1uNzpxIptBuaY97Dkj   \n",
       "3         125 2023-06-22 07:32:53.270    101.0  4GKk1uNzpxIptBuaY97Dkj   \n",
       "4         125 2023-06-22 07:34:23.481    101.0  0ZO2iSS12JTftv10cSCYf8   \n",
       "\n",
       "  event_type  \n",
       "0       play  \n",
       "1       play  \n",
       "2       play  \n",
       "3       like  \n",
       "4       play  "
      ]
     },
     "execution_count": 7,
     "metadata": {},
     "output_type": "execute_result"
    }
   ],
   "source": [
    "sessions.head()"
   ]
  },
  {
   "cell_type": "code",
   "execution_count": 8,
   "metadata": {},
   "outputs": [
    {
     "name": "stdout",
     "output_type": "stream",
     "text": [
      "<class 'pandas.core.frame.DataFrame'>\n",
      "RangeIndex: 26347 entries, 0 to 26346\n",
      "Data columns (total 5 columns):\n",
      " #   Column      Non-Null Count  Dtype         \n",
      "---  ------      --------------  -----         \n",
      " 0   session_id  26347 non-null  int64         \n",
      " 1   timestamp   26347 non-null  datetime64[ns]\n",
      " 2   user_id     25038 non-null  float64       \n",
      " 3   track_id    21501 non-null  object        \n",
      " 4   event_type  25014 non-null  object        \n",
      "dtypes: datetime64[ns](1), float64(1), int64(1), object(2)\n",
      "memory usage: 1.0+ MB\n"
     ]
    }
   ],
   "source": [
    "sessions.info()"
   ]
  },
  {
   "cell_type": "code",
   "execution_count": 9,
   "metadata": {},
   "outputs": [
    {
     "data": {
      "text/plain": [
       "session_id       0\n",
       "timestamp        0\n",
       "user_id       1309\n",
       "track_id      4846\n",
       "event_type    1333\n",
       "dtype: int64"
      ]
     },
     "execution_count": 9,
     "metadata": {},
     "output_type": "execute_result"
    }
   ],
   "source": [
    "sessions.isnull().sum()"
   ]
  },
  {
   "cell_type": "markdown",
   "metadata": {},
   "source": [
    "### Braki:"
   ]
  },
  {
   "cell_type": "code",
   "execution_count": 10,
   "metadata": {},
   "outputs": [
    {
     "data": {
      "text/plain": [
       "['play', 'like', 'advertisment', None, 'skip']"
      ]
     },
     "execution_count": 10,
     "metadata": {},
     "output_type": "execute_result"
    }
   ],
   "source": [
    "[_ for _ in sessions['event_type'].unique()]"
   ]
  },
  {
   "cell_type": "code",
   "execution_count": 11,
   "metadata": {},
   "outputs": [
    {
     "name": "stdout",
     "output_type": "stream",
     "text": [
      "Liczba brakujących track_id gdy event_type = 'play': 675\n",
      "Liczba brakujących track_id gdy event_type = 'like': 164\n",
      "Liczba brakujących track_id gdy event_type = 'advertisment': 3540\n",
      "Liczba brakujących track_id gdy event_type = 'skip': 221\n"
     ]
    }
   ],
   "source": [
    "event_types = sessions['event_type'].unique() \n",
    "event_types = event_types[~pd.isnull(event_types)]\n",
    "\n",
    "for event_type in event_types:\n",
    "    missing_track_id_for_event_type = len(sessions[(sessions['event_type'] == event_type) & (sessions['track_id'].isnull())])\n",
    "    print(f\"Liczba brakujących track_id gdy event_type = '{event_type}': {missing_track_id_for_event_type}\")\n"
   ]
  },
  {
   "cell_type": "markdown",
   "metadata": {},
   "source": [
    "Wiersze z brakami id utworu są błędne - nie mogą być użyte. "
   ]
  },
  {
   "cell_type": "markdown",
   "metadata": {},
   "source": [
    "### Rozkład event_type"
   ]
  },
  {
   "cell_type": "code",
   "execution_count": 12,
   "metadata": {},
   "outputs": [
    {
     "data": {
      "image/png": "[encoded data removed]",
      "text/plain": [
       "<Figure size 640x480 with 1 Axes>"
      ]
     },
     "metadata": {},
     "output_type": "display_data"
    }
   ],
   "source": [
    "event_counts = sessions['event_type'].value_counts()\n",
    "event_counts.plot(kind='bar')\n",
    "plt.xlabel('Event Type')\n",
    "plt.ylabel('Occurrences')\n",
    "plt.title('Event Type Occurrences')\n",
    "plt.xticks(rotation=45)\n",
    "plt.show()\n"
   ]
  },
  {
   "cell_type": "markdown",
   "metadata": {},
   "source": [
    "## Tracks"
   ]
  },
  {
   "cell_type": "code",
   "execution_count": 13,
   "metadata": {},
   "outputs": [
    {
     "data": {
      "text/html": [
       "<div>\n",
       "<style scoped>\n",
       "    .dataframe tbody tr th:only-of-type {\n",
       "        vertical-align: middle;\n",
       "    }\n",
       "\n",
       "    .dataframe tbody tr th {\n",
       "        vertical-align: top;\n",
       "    }\n",
       "\n",
       "    .dataframe thead th {\n",
       "        text-align: right;\n",
       "    }\n",
       "</style>\n",
       "<table border=\"1\" class=\"dataframe\">\n",
       "  <thead>\n",
       "    <tr style=\"text-align: right;\">\n",
       "      <th></th>\n",
       "      <th>id</th>\n",
       "      <th>name</th>\n",
       "      <th>popularity</th>\n",
       "      <th>duration_ms</th>\n",
       "      <th>explicit</th>\n",
       "      <th>id_artist</th>\n",
       "      <th>release_date</th>\n",
       "      <th>danceability</th>\n",
       "      <th>energy</th>\n",
       "      <th>key</th>\n",
       "      <th>loudness</th>\n",
       "      <th>speechiness</th>\n",
       "      <th>acousticness</th>\n",
       "      <th>instrumentalness</th>\n",
       "      <th>liveness</th>\n",
       "      <th>valence</th>\n",
       "      <th>tempo</th>\n",
       "    </tr>\n",
       "  </thead>\n",
       "  <tbody>\n",
       "    <tr>\n",
       "      <th>0</th>\n",
       "      <td>0RNxWy0PC3AyH4ThH3aGK6</td>\n",
       "      <td>Mack the Knife</td>\n",
       "      <td>55.0</td>\n",
       "      <td>201467</td>\n",
       "      <td>0</td>\n",
       "      <td>19eLuQmk9aCobbVDHc6eek</td>\n",
       "      <td>1929</td>\n",
       "      <td>0.673</td>\n",
       "      <td>0.3770</td>\n",
       "      <td>0</td>\n",
       "      <td>-14.141</td>\n",
       "      <td>0.0697</td>\n",
       "      <td>0.586</td>\n",
       "      <td>0.000000</td>\n",
       "      <td>0.332</td>\n",
       "      <td>0.713</td>\n",
       "      <td>88.973</td>\n",
       "    </tr>\n",
       "    <tr>\n",
       "      <th>1</th>\n",
       "      <td>2W889aLIKxULEefrleFBFI</td>\n",
       "      <td>Someone to Watch Over Me</td>\n",
       "      <td>54.0</td>\n",
       "      <td>198000</td>\n",
       "      <td>0</td>\n",
       "      <td>1Mxqyy3pSjf8kZZL4QVxS0</td>\n",
       "      <td>1943</td>\n",
       "      <td>0.204</td>\n",
       "      <td>0.1510</td>\n",
       "      <td>2</td>\n",
       "      <td>-17.842</td>\n",
       "      <td>0.0418</td>\n",
       "      <td>0.947</td>\n",
       "      <td>0.000009</td>\n",
       "      <td>0.321</td>\n",
       "      <td>0.134</td>\n",
       "      <td>91.783</td>\n",
       "    </tr>\n",
       "    <tr>\n",
       "      <th>2</th>\n",
       "      <td>4Pnzw1nLOpDNV6MKI5ueIR</td>\n",
       "      <td>Nancy (With the Laughing Face) - 78rpm Version</td>\n",
       "      <td>55.0</td>\n",
       "      <td>199000</td>\n",
       "      <td>0</td>\n",
       "      <td>None</td>\n",
       "      <td>1944</td>\n",
       "      <td>0.295</td>\n",
       "      <td>0.0826</td>\n",
       "      <td>1</td>\n",
       "      <td>-19.569</td>\n",
       "      <td>0.0367</td>\n",
       "      <td>0.984</td>\n",
       "      <td>0.000358</td>\n",
       "      <td>0.156</td>\n",
       "      <td>0.169</td>\n",
       "      <td>128.600</td>\n",
       "    </tr>\n",
       "    <tr>\n",
       "      <th>3</th>\n",
       "      <td>7GLmfKOe5BfOXk7334DoKt</td>\n",
       "      <td>Saturday Night (Is The Loneliest Night In The ...</td>\n",
       "      <td>54.0</td>\n",
       "      <td>163000</td>\n",
       "      <td>0</td>\n",
       "      <td>1Mxqyy3pSjf8kZZL4QVxS0</td>\n",
       "      <td>1944</td>\n",
       "      <td>0.561</td>\n",
       "      <td>0.3350</td>\n",
       "      <td>9</td>\n",
       "      <td>-11.093</td>\n",
       "      <td>0.0499</td>\n",
       "      <td>0.840</td>\n",
       "      <td>0.000002</td>\n",
       "      <td>0.788</td>\n",
       "      <td>0.590</td>\n",
       "      <td>126.974</td>\n",
       "    </tr>\n",
       "    <tr>\n",
       "      <th>4</th>\n",
       "      <td>6kD1SNGPkfX9LwaGd1FG92</td>\n",
       "      <td>Put Your Dreams Away (For Another Day)</td>\n",
       "      <td>53.0</td>\n",
       "      <td>186173</td>\n",
       "      <td>0</td>\n",
       "      <td>1Mxqyy3pSjf8kZZL4QVxS0</td>\n",
       "      <td>1944</td>\n",
       "      <td>0.197</td>\n",
       "      <td>0.0546</td>\n",
       "      <td>1</td>\n",
       "      <td>-22.411</td>\n",
       "      <td>0.0346</td>\n",
       "      <td>0.950</td>\n",
       "      <td>0.276000</td>\n",
       "      <td>0.152</td>\n",
       "      <td>0.100</td>\n",
       "      <td>90.150</td>\n",
       "    </tr>\n",
       "  </tbody>\n",
       "</table>\n",
       "</div>"
      ],
      "text/plain": [
       "                       id                                               name  \\\n",
       "0  0RNxWy0PC3AyH4ThH3aGK6                                     Mack the Knife   \n",
       "1  2W889aLIKxULEefrleFBFI                           Someone to Watch Over Me   \n",
       "2  4Pnzw1nLOpDNV6MKI5ueIR     Nancy (With the Laughing Face) - 78rpm Version   \n",
       "3  7GLmfKOe5BfOXk7334DoKt  Saturday Night (Is The Loneliest Night In The ...   \n",
       "4  6kD1SNGPkfX9LwaGd1FG92             Put Your Dreams Away (For Another Day)   \n",
       "\n",
       "   popularity  duration_ms  explicit               id_artist release_date  \\\n",
       "0        55.0       201467         0  19eLuQmk9aCobbVDHc6eek         1929   \n",
       "1        54.0       198000         0  1Mxqyy3pSjf8kZZL4QVxS0         1943   \n",
       "2        55.0       199000         0                    None         1944   \n",
       "3        54.0       163000         0  1Mxqyy3pSjf8kZZL4QVxS0         1944   \n",
       "4        53.0       186173         0  1Mxqyy3pSjf8kZZL4QVxS0         1944   \n",
       "\n",
       "   danceability  energy  key  loudness  speechiness  acousticness  \\\n",
       "0         0.673  0.3770    0   -14.141       0.0697         0.586   \n",
       "1         0.204  0.1510    2   -17.842       0.0418         0.947   \n",
       "2         0.295  0.0826    1   -19.569       0.0367         0.984   \n",
       "3         0.561  0.3350    9   -11.093       0.0499         0.840   \n",
       "4         0.197  0.0546    1   -22.411       0.0346         0.950   \n",
       "\n",
       "   instrumentalness  liveness  valence    tempo  \n",
       "0          0.000000     0.332    0.713   88.973  \n",
       "1          0.000009     0.321    0.134   91.783  \n",
       "2          0.000358     0.156    0.169  128.600  \n",
       "3          0.000002     0.788    0.590  126.974  \n",
       "4          0.276000     0.152    0.100   90.150  "
      ]
     },
     "execution_count": 13,
     "metadata": {},
     "output_type": "execute_result"
    }
   ],
   "source": [
    "tracks.head()"
   ]
  },
  {
   "cell_type": "code",
   "execution_count": 14,
   "metadata": {},
   "outputs": [
    {
     "name": "stdout",
     "output_type": "stream",
     "text": [
      "<class 'pandas.core.frame.DataFrame'>\n",
      "RangeIndex: 22412 entries, 0 to 22411\n",
      "Data columns (total 17 columns):\n",
      " #   Column            Non-Null Count  Dtype  \n",
      "---  ------            --------------  -----  \n",
      " 0   id                21272 non-null  object \n",
      " 1   name              21304 non-null  object \n",
      " 2   popularity        21322 non-null  float64\n",
      " 3   duration_ms       22412 non-null  int64  \n",
      " 4   explicit          22412 non-null  int64  \n",
      " 5   id_artist         21270 non-null  object \n",
      " 6   release_date      22412 non-null  object \n",
      " 7   danceability      22412 non-null  float64\n",
      " 8   energy            22412 non-null  float64\n",
      " 9   key               22412 non-null  int64  \n",
      " 10  loudness          22412 non-null  float64\n",
      " 11  speechiness       22412 non-null  float64\n",
      " 12  acousticness      22412 non-null  float64\n",
      " 13  instrumentalness  22412 non-null  float64\n",
      " 14  liveness          22412 non-null  float64\n",
      " 15  valence           22412 non-null  float64\n",
      " 16  tempo             22412 non-null  float64\n",
      "dtypes: float64(10), int64(3), object(4)\n",
      "memory usage: 2.9+ MB\n"
     ]
    }
   ],
   "source": [
    "tracks.info()"
   ]
  },
  {
   "cell_type": "code",
   "execution_count": 15,
   "metadata": {},
   "outputs": [
    {
     "data": {
      "text/plain": [
       "id                  1140\n",
       "name                1108\n",
       "popularity          1090\n",
       "duration_ms            0\n",
       "explicit               0\n",
       "id_artist           1142\n",
       "release_date           0\n",
       "danceability           0\n",
       "energy                 0\n",
       "key                    0\n",
       "loudness               0\n",
       "speechiness            0\n",
       "acousticness           0\n",
       "instrumentalness       0\n",
       "liveness               0\n",
       "valence                0\n",
       "tempo                  0\n",
       "dtype: int64"
      ]
     },
     "execution_count": 15,
     "metadata": {},
     "output_type": "execute_result"
    }
   ],
   "source": [
    "tracks.isnull().sum()"
   ]
  },
  {
   "cell_type": "markdown",
   "metadata": {},
   "source": [
    "Znaczne braki w atrybutach id, nazwy, popularności i id artysty."
   ]
  },
  {
   "cell_type": "markdown",
   "metadata": {},
   "source": [
    "### Rozkład atrybutów"
   ]
  },
  {
   "cell_type": "code",
   "execution_count": 16,
   "metadata": {},
   "outputs": [
    {
     "data": {
      "image/png": "[encoded data removed]",
      "text/plain": [
       "<Figure size 1500x1000 with 16 Axes>"
      ]
     },
     "metadata": {},
     "output_type": "display_data"
    }
   ],
   "source": [
    "tracks.hist(figsize=(15, 10), bins=50);"
   ]
  },
  {
   "cell_type": "markdown",
   "metadata": {},
   "source": [
    "Atrybut intrumentalness wydaje się być mocno niezrównoważony."
   ]
  },
  {
   "cell_type": "markdown",
   "metadata": {},
   "source": [
    "## Wnioski:\n",
    "- By stworzyć dokładny model, danych o sesji potrzebnych jest jak najwięcej, idealnie około kilku milionów - by mieć solidne podstawy prognozować tydzień w przyszłość. \n",
    "- Dane o utworach (i artystach) powinny obejmować wszystkie możliwe z platformy by móc dokładnie przewidywać top listę. Dodatkowo, braki id, popularności, id artysty i nazwy również muszą zostać rozwiązane.\n",
    "- Błędy w danych artystów (takie jak powtarzane id = -1) są niedopuszczalne, gdyż nie pozwalają powiązać utworu z jego wykonawcą. Potrzebne są dane nieposiadające takich błędów.\n",
    "- Braki id utworu i użytkownika oraz typu eventu w sesjach również są niedopuszczalne - potrzebne są naprawione dane.\n",
    "- Baza użytkowników, jeśli posiada informacje o np. ulubionych utworach / gatunkach / wykonawcach może pomóc w przewidywaniach. Musiałaby być jednak jak najszersza (najlepiej wszyscy użytkownicy), ponieważ upodobania poszczególnych użytkowników są prawdopodobnie zróżnicowane - mniejszy zbiór danych mógłby nie być reprezentatywny. Dodatkowo, jeśli posiada dane osobowe użytkowników, powinny one być z niej wycięte (nie są potrzebne, a stanowią potencjalny problem bezpieczeństwa / prywatności) zostawiając jedynie id użytkownika."
   ]
  }
 ],
 "metadata": {
  "kernelspec": {
   "display_name": "Python 3",
   "language": "python",
   "name": "python3"
  },
  "language_info": {
   "codemirror_mode": {
    "name": "ipython",
    "version": 3
   },
   "file_extension": ".py",
   "mimetype": "text/x-python",
   "name": "python",
   "nbconvert_exporter": "python",
   "pygments_lexer": "ipython3",
   "version": "3.8.10"
  }
 },
 "nbformat": 4,
 "nbformat_minor": 2
}
