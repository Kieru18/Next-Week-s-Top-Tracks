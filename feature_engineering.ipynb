{
 "cells": [
  {
   "cell_type": "markdown",
   "metadata": {},
   "source": [
    "# Analiza atrybutów"
   ]
  },
  {
   "cell_type": "code",
   "execution_count": 53,
   "metadata": {},
   "outputs": [],
   "source": [
    "import pandas as pd\n",
    "import numpy as np\n",
    "import matplotlib.pyplot as plt\n",
    "import json"
   ]
  },
  {
   "cell_type": "code",
   "execution_count": 54,
   "metadata": {},
   "outputs": [],
   "source": [
    "DIR_DATA = 'data/v2'"
   ]
  },
  {
   "cell_type": "code",
   "execution_count": 55,
   "metadata": {},
   "outputs": [],
   "source": [
    "artists = pd.read_json(path_or_buf=f'{DIR_DATA}/artists.jsonl', lines=True)\n",
    "sessions = pd.read_json(path_or_buf=f'{DIR_DATA}/sessions.jsonl', lines=True)\n",
    "tracks = pd.read_json(path_or_buf=f'{DIR_DATA}/tracks.jsonl', lines=True)\n",
    "users = pd.read_json(path_or_buf=f'{DIR_DATA}/users.jsonl', lines=True)"
   ]
  },
  {
   "cell_type": "code",
   "execution_count": null,
   "metadata": {},
   "outputs": [],
   "source": [
    "features = ['play_growth_previous', 'like_growth_previous', \n",
    "            'average_duration_ratio', 'explicit', 'danceability', \n",
    "            'energy', 'key', 'loudness', 'speechiness', 'acousticness', \n",
    "            'instrumentalness', 'liveness', 'valence', 'tempo',\n",
    "            'average_genres_ratio']\n",
    "\n",
    "# ==================== #\n",
    "# play_growth_previous - przyrost sumy odtworzeń w poprzednim tygodniu\n",
    "# like_growth_previous - przyrost sumy polubień w poprzednim tygodniu\n",
    "# average_duration_ratio - średni stosunek czasu słuchania do długości utworu\n",
    "# average_genres_ratio - średni stosunek ilości pokrywających się ulubionych /\n",
    "## gatunków użytkownika z zadeklarowanymi gatunkami autora utworu do ich ilości\n",
    "# ===================== #\n",
    "\n",
    "target = ['play_growth', 'play_growth_next']"
   ]
  },
  {
   "cell_type": "markdown",
   "metadata": {},
   "source": [
    "Agregacja danych"
   ]
  },
  {
   "cell_type": "code",
   "execution_count": null,
   "metadata": {},
   "outputs": [],
   "source": [
    "['track_id', 'week', 'average_duration_ratio', 'play_growth', 'play_amount', '']"
   ]
  }
 ],
 "metadata": {
  "kernelspec": {
   "display_name": "Python 3",
   "language": "python",
   "name": "python3"
  },
  "language_info": {
   "codemirror_mode": {
    "name": "ipython",
    "version": 3
   },
   "file_extension": ".py",
   "mimetype": "text/x-python",
   "name": "python",
   "nbconvert_exporter": "python",
   "pygments_lexer": "ipython3",
   "version": "3.8.10"
  }
 },
 "nbformat": 4,
 "nbformat_minor": 2
}
