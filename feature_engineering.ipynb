{
 "cells": [
  {
   "cell_type": "markdown",
   "metadata": {},
   "source": [
    "# Analiza atrybutów"
   ]
  },
  {
   "cell_type": "code",
   "execution_count": 19,
   "metadata": {},
   "outputs": [],
   "source": [
    "import pandas as pd\n",
    "import numpy as np\n",
    "import matplotlib.pyplot as plt\n",
    "import json"
   ]
  },
  {
   "cell_type": "code",
   "execution_count": 20,
   "metadata": {},
   "outputs": [],
   "source": [
    "DIR_DATA = 'data/v2'"
   ]
  },
  {
   "cell_type": "code",
   "execution_count": 21,
   "metadata": {},
   "outputs": [],
   "source": [
    "artists = pd.read_json(path_or_buf=f'{DIR_DATA}/artists.jsonl', lines=True)\n",
    "sessions = pd.read_json(path_or_buf=f'{DIR_DATA}/sessions.jsonl', lines=True)\n",
    "tracks = pd.read_json(path_or_buf=f'{DIR_DATA}/tracks.jsonl', lines=True)\n",
    "users = pd.read_json(path_or_buf=f'{DIR_DATA}/users.jsonl', lines=True)"
   ]
  },
  {
   "cell_type": "code",
   "execution_count": 22,
   "metadata": {},
   "outputs": [],
   "source": [
    "features = ['play_growth_previous', 'like_growth_previous', \n",
    "            'average_duration_ratio', 'explicit', 'danceability', \n",
    "            'energy', 'key', 'loudness', 'speechiness', 'acousticness', \n",
    "            'instrumentalness', 'liveness', 'valence', 'tempo',\n",
    "            'average_genres_ratio']\n",
    "\n",
    "# ==================== #\n",
    "# play_growth_previous - przyrost sumy odtworzeń w poprzednim tygodniu\n",
    "# like_growth_previous - przyrost sumy polubień w poprzednim tygodniu\n",
    "# average_duration_ratio - średni stosunek czasu słuchania do długości utworu\n",
    "# average_genres_ratio - średni stosunek ilości pokrywających się ulubionych /\n",
    "## gatunków użytkownika z zadeklarowanymi gatunkami autora utworu do ich ilości\n",
    "# ===================== #\n",
    "\n",
    "target = ['play_growth', 'play_growth_next']"
   ]
  },
  {
   "cell_type": "markdown",
   "metadata": {},
   "source": [
    "### Przygotowanie danych do użycia \n",
    "- podział sesji według tygodni i utworów\n",
    "- policzenie danych takich jak liczba odtworzeń, liczba polubień, przyrost odtworzeń, średni czas odtwarzania "
   ]
  },
  {
   "cell_type": "code",
   "execution_count": 28,
   "metadata": {},
   "outputs": [
    {
     "name": "stdout",
     "output_type": "stream",
     "text": [
      "<class 'pandas.core.frame.DataFrame'>\n",
      "Int64Index: 1196511 entries, 0 to 1223971\n",
      "Data columns (total 7 columns):\n",
      " #   Column       Non-Null Count    Dtype         \n",
      "---  ------       --------------    -----         \n",
      " 0   track_id     1196511 non-null  object        \n",
      " 1   duration_ms  1196511 non-null  int64         \n",
      " 2   session_id   1196511 non-null  int64         \n",
      " 3   timestamp    1196511 non-null  datetime64[ns]\n",
      " 4   user_id      1196511 non-null  int64         \n",
      " 5   event_type   1196511 non-null  object        \n",
      " 6   week         1196511 non-null  int64         \n",
      "dtypes: datetime64[ns](1), int64(4), object(2)\n",
      "memory usage: 73.0+ MB\n"
     ]
    }
   ],
   "source": [
    "tracks = tracks.rename(columns={'id': 'track_id'})\n",
    "tracks['release_date'] = pd.to_datetime(tracks['release_date'], errors='coerce')\n",
    "tracks['release_date'] = tracks['release_date'].dt.year\n",
    "\n",
    "\n",
    "merged_df = pd.merge(tracks[['track_id','duration_ms']], sessions, on='track_id', how='inner')\n",
    "merged_df['timestamp'] = pd.to_datetime(merged_df['timestamp'])\n",
    "merged_df['week'] = merged_df['timestamp'].dt.strftime('%U')\n",
    "\n",
    "start_date = pd.to_datetime('2022-12-05')\n",
    "\n",
    "merged_df['week'] = (merged_df['timestamp'] - start_date).dt.days // 7\n",
    "merged_df['week'] = merged_df['week'] + 1\n",
    "\n",
    "#remove first and last week, because they're not complete\n",
    "merged_df = merged_df[merged_df.week.isin([1, 53]) == False]\n",
    "merged_df.info()"
   ]
  },
  {
   "cell_type": "markdown",
   "metadata": {},
   "source": [
    "Policzymy sumę wartości odtworzeń i polubień utworu w danym tygodniu"
   ]
  },
  {
   "cell_type": "code",
   "execution_count": 24,
   "metadata": {},
   "outputs": [
    {
     "name": "stdout",
     "output_type": "stream",
     "text": [
      "<bound method NDFrame.tail of                        track_id  week  like_count  play_count\n",
      "0        0RNxWy0PC3AyH4ThH3aGK6     2         0.0         0.0\n",
      "1        0RNxWy0PC3AyH4ThH3aGK6     3         0.0         0.0\n",
      "2        0RNxWy0PC3AyH4ThH3aGK6     4         0.0         0.0\n",
      "3        0RNxWy0PC3AyH4ThH3aGK6     5         0.0         0.0\n",
      "4        0RNxWy0PC3AyH4ThH3aGK6     6         0.0         0.0\n",
      "...                         ...   ...         ...         ...\n",
      "1143007  27Y1N4Q4U3EfDU5Ubw8ws2    48         0.0         0.0\n",
      "1143008  27Y1N4Q4U3EfDU5Ubw8ws2    49         1.0         1.0\n",
      "1143009  27Y1N4Q4U3EfDU5Ubw8ws2    50         0.0         0.0\n",
      "1143010  27Y1N4Q4U3EfDU5Ubw8ws2    51         0.0         0.0\n",
      "1143011  27Y1N4Q4U3EfDU5Ubw8ws2    52         0.0         0.0\n",
      "\n",
      "[1143012 rows x 4 columns]>\n",
      "<class 'pandas.core.frame.DataFrame'>\n",
      "Int64Index: 1143012 entries, 0 to 1143011\n",
      "Data columns (total 4 columns):\n",
      " #   Column      Non-Null Count    Dtype  \n",
      "---  ------      --------------    -----  \n",
      " 0   track_id    1143012 non-null  object \n",
      " 1   week        1143012 non-null  int64  \n",
      " 2   like_count  1143012 non-null  float64\n",
      " 3   play_count  1143012 non-null  float64\n",
      "dtypes: float64(2), int64(1), object(1)\n",
      "memory usage: 43.6+ MB\n"
     ]
    }
   ],
   "source": [
    "sessions_df = sessions\n",
    "sessions_df['timestamp'] = pd.to_datetime(sessions_df['timestamp'])\n",
    "sessions_df['week'] = sessions_df['timestamp'].dt.strftime('%U')\n",
    "\n",
    "start_date = pd.to_datetime('2022-12-05')\n",
    "\n",
    "sessions_df['week'] = (sessions_df['timestamp'] - start_date).dt.days // 7\n",
    "sessions_df['week'] = sessions_df['week'] + 1\n",
    "\n",
    "#remove first and last week, because they're not complete\n",
    "sessions_df = sessions_df[sessions_df.week.isin([1, 53]) == False]\n",
    "\n",
    "all_weeks = sorted(sessions_df['week'].unique())\n",
    "all_tracks = tracks['track_id'].unique()\n",
    "\n",
    "\n",
    "# create new data frame for output\n",
    "df1 = pd.DataFrame({'track_id': all_tracks[:]})\n",
    "df2 = pd.DataFrame({'week': all_weeks[:]})\n",
    "\n",
    "# create empty dataframe for each song and week\n",
    "empty_track_week_df = pd.merge(df1, df2, how='cross')\n",
    "\n",
    "# count event ratios for every event_type\n",
    "counts_df = sessions_df.groupby(['week', 'track_id'])['event_type'].value_counts().unstack(fill_value=0)\n",
    "counts_df = counts_df.rename(columns={'play': 'play_count', 'like': 'like_count'}).reset_index()\n",
    "counts_df = counts_df.drop(['skip'], axis=1)\n",
    "\n",
    "\n",
    "# merge dataframes so every track and week has the rate value  \n",
    "tw_counts_df = pd.merge(empty_track_week_df, counts_df, on=['week', 'track_id'], how='left')\n",
    "tw_counts_df = tw_counts_df.fillna(0)\n",
    "\n",
    "print(tw_counts_df.tail)\n",
    "tw_counts_df.info()\n"
   ]
  },
  {
   "cell_type": "code",
   "execution_count": 25,
   "metadata": {},
   "outputs": [
    {
     "name": "stdout",
     "output_type": "stream",
     "text": [
      "<class 'pandas.core.frame.DataFrame'>\n",
      "RangeIndex: 320345 entries, 0 to 320344\n",
      "Data columns (total 3 columns):\n",
      " #   Column          Non-Null Count   Dtype  \n",
      "---  ------          --------------   -----  \n",
      " 0   track_id        320345 non-null  object \n",
      " 1   week            320345 non-null  int64  \n",
      " 2   playtime_ratio  320345 non-null  float64\n",
      "dtypes: float64(1), int64(1), object(1)\n",
      "memory usage: 7.3+ MB\n",
      "                     track_id  week  playtime_ratio\n",
      "90634  27Y1N4Q4U3EfDU5Ubw8ws2     4        1.000000\n",
      "90635  27Y1N4Q4U3EfDU5Ubw8ws2     5        1.000000\n",
      "90636  27Y1N4Q4U3EfDU5Ubw8ws2     6        0.079125\n",
      "90637  27Y1N4Q4U3EfDU5Ubw8ws2     8        0.678309\n",
      "90638  27Y1N4Q4U3EfDU5Ubw8ws2    10        1.000000\n",
      "90639  27Y1N4Q4U3EfDU5Ubw8ws2    11        1.000000\n",
      "90640  27Y1N4Q4U3EfDU5Ubw8ws2    12        0.785934\n",
      "90641  27Y1N4Q4U3EfDU5Ubw8ws2    13        1.000000\n",
      "90642  27Y1N4Q4U3EfDU5Ubw8ws2    14        1.000000\n",
      "90643  27Y1N4Q4U3EfDU5Ubw8ws2    16        1.000000\n",
      "90644  27Y1N4Q4U3EfDU5Ubw8ws2    19        0.716747\n",
      "90645  27Y1N4Q4U3EfDU5Ubw8ws2    22        1.000000\n",
      "90646  27Y1N4Q4U3EfDU5Ubw8ws2    25        1.000000\n",
      "90647  27Y1N4Q4U3EfDU5Ubw8ws2    28        1.000000\n",
      "90648  27Y1N4Q4U3EfDU5Ubw8ws2    29        1.000000\n",
      "90649  27Y1N4Q4U3EfDU5Ubw8ws2    30        1.000000\n",
      "90650  27Y1N4Q4U3EfDU5Ubw8ws2    32        1.000000\n",
      "90651  27Y1N4Q4U3EfDU5Ubw8ws2    34        0.961662\n",
      "90652  27Y1N4Q4U3EfDU5Ubw8ws2    35        1.000000\n",
      "90653  27Y1N4Q4U3EfDU5Ubw8ws2    39        0.895936\n",
      "90654  27Y1N4Q4U3EfDU5Ubw8ws2    41        1.000000\n",
      "90655  27Y1N4Q4U3EfDU5Ubw8ws2    42        1.000000\n",
      "90656  27Y1N4Q4U3EfDU5Ubw8ws2    45        1.000000\n",
      "90657  27Y1N4Q4U3EfDU5Ubw8ws2    47        1.000000\n",
      "90658  27Y1N4Q4U3EfDU5Ubw8ws2    49        1.000000\n"
     ]
    }
   ],
   "source": [
    "# get rid of like events\n",
    "playtime_df = merged_df\n",
    "playtime_df = playtime_df[playtime_df[\"event_type\"] != \"like\"].copy()\n",
    "\n",
    "# Group by Week, Track, and User\n",
    "grouped_df = playtime_df.groupby(['week', 'track_id', 'user_id'])\n",
    "\n",
    "# Identify Skip Events Following Play Events\n",
    "playtime_df['next_timestamp'] = grouped_df['timestamp'].shift(-1)\n",
    "playtime_df['next_event_type'] = grouped_df['event_type'].shift(-1)\n",
    "\n",
    "\n",
    "play_mask = (playtime_df['event_type'] == 'play') & (playtime_df['next_event_type'] == 'skip')\n",
    "play_duration = (playtime_df['next_timestamp'] - playtime_df['timestamp']).dt.total_seconds() * 1000\n",
    "track_duration = playtime_df['duration_ms']\n",
    "\n",
    "playtime_df['playtime_ratio'] = 1\n",
    "playtime_df.loc[play_mask, 'playtime_ratio'] = play_duration[play_mask] / track_duration[play_mask]\n",
    "\n",
    "\n",
    "# Remove Temporary Columns\n",
    "playtime_df = playtime_df.drop(['next_event_type', 'next_timestamp'], axis=1)\n",
    "playtime_df = playtime_df[playtime_df[\"event_type\"] != \"skip\"].reset_index()\n",
    "\n",
    "\n",
    "# Calculate Mean Playtime\n",
    "grouped_playtime = playtime_df[playtime_df['event_type'] == 'play'].groupby(['track_id', 'week'])\n",
    "mean_playtime = grouped_playtime['playtime_ratio'].mean().reset_index()\n",
    "\n",
    "# Display the result\n",
    "mean_playtime.info()\n",
    "print(mean_playtime[mean_playtime[\"track_id\"] == \"27Y1N4Q4U3EfDU5Ubw8ws2\"].sort_values(by=\"week\"))\n"
   ]
  },
  {
   "cell_type": "markdown",
   "metadata": {},
   "source": [
    "Połączymy je teraz w jeden dataframe, aby mieć pełne informacje w jednym dataframe'ie i policzmy wartość słuchalności w tym i poprzednim tygodniu"
   ]
  },
  {
   "cell_type": "code",
   "execution_count": 29,
   "metadata": {},
   "outputs": [
    {
     "name": "stdout",
     "output_type": "stream",
     "text": [
      "<class 'pandas.core.frame.DataFrame'>\n",
      "Int64Index: 1143012 entries, 0 to 1143011\n",
      "Data columns (total 3 columns):\n",
      " #   Column         Non-Null Count    Dtype  \n",
      "---  ------         --------------    -----  \n",
      " 0   track_id       1143012 non-null  object \n",
      " 1   week           1143012 non-null  int64  \n",
      " 2   listenability  1143012 non-null  float64\n",
      "dtypes: float64(1), int64(1), object(1)\n",
      "memory usage: 34.9+ MB\n",
      "                       track_id  week  listenability  duration_ms  explicit  \\\n",
      "0        0RNxWy0PC3AyH4ThH3aGK6     2            0.0       201467         0   \n",
      "1        0RNxWy0PC3AyH4ThH3aGK6     3            0.0       201467         0   \n",
      "2        0RNxWy0PC3AyH4ThH3aGK6     4            0.0       201467         0   \n",
      "3        0RNxWy0PC3AyH4ThH3aGK6     5            0.0       201467         0   \n",
      "4        0RNxWy0PC3AyH4ThH3aGK6     6            0.0       201467         0   \n",
      "...                         ...   ...            ...          ...       ...   \n",
      "1143007  27Y1N4Q4U3EfDU5Ubw8ws2    48            0.0       187601         0   \n",
      "1143008  27Y1N4Q4U3EfDU5Ubw8ws2    49            2.0       187601         0   \n",
      "1143009  27Y1N4Q4U3EfDU5Ubw8ws2    50            0.0       187601         0   \n",
      "1143010  27Y1N4Q4U3EfDU5Ubw8ws2    51            0.0       187601         0   \n",
      "1143011  27Y1N4Q4U3EfDU5Ubw8ws2    52            0.0       187601         0   \n",
      "\n",
      "         danceability  energy  key  loudness  speechiness  acousticness  \\\n",
      "0               0.673   0.377    0   -14.141       0.0697         0.586   \n",
      "1               0.673   0.377    0   -14.141       0.0697         0.586   \n",
      "2               0.673   0.377    0   -14.141       0.0697         0.586   \n",
      "3               0.673   0.377    0   -14.141       0.0697         0.586   \n",
      "4               0.673   0.377    0   -14.141       0.0697         0.586   \n",
      "...               ...     ...  ...       ...          ...           ...   \n",
      "1143007         0.535   0.314    7   -12.823       0.0408         0.895   \n",
      "1143008         0.535   0.314    7   -12.823       0.0408         0.895   \n",
      "1143009         0.535   0.314    7   -12.823       0.0408         0.895   \n",
      "1143010         0.535   0.314    7   -12.823       0.0408         0.895   \n",
      "1143011         0.535   0.314    7   -12.823       0.0408         0.895   \n",
      "\n",
      "         instrumentalness  liveness  valence    tempo  release_date  \n",
      "0                 0.00000    0.3320   0.7130   88.973          1929  \n",
      "1                 0.00000    0.3320   0.7130   88.973          1929  \n",
      "2                 0.00000    0.3320   0.7130   88.973          1929  \n",
      "3                 0.00000    0.3320   0.7130   88.973          1929  \n",
      "4                 0.00000    0.3320   0.7130   88.973          1929  \n",
      "...                   ...       ...      ...      ...           ...  \n",
      "1143007           0.00015    0.0874   0.0663  145.095          2020  \n",
      "1143008           0.00015    0.0874   0.0663  145.095          2020  \n",
      "1143009           0.00015    0.0874   0.0663  145.095          2020  \n",
      "1143010           0.00015    0.0874   0.0663  145.095          2020  \n",
      "1143011           0.00015    0.0874   0.0663  145.095          2020  \n",
      "\n",
      "[1143012 rows x 16 columns]\n"
     ]
    }
   ],
   "source": [
    "all_counts_df = pd.merge(tw_counts_df, mean_playtime, on=['week', 'track_id'], how='left')\n",
    "all_counts_df = all_counts_df.fillna(0)\n",
    "\n",
    "listenability_df = all_counts_df.copy()\n",
    "listenability_df['listenability'] = listenability_df['play_count'] * listenability_df['playtime_ratio'] + listenability_df['like_count']\n",
    "\n",
    "listenability_df = listenability_df.drop(['play_count', 'playtime_ratio', 'like_count'], axis=1)\n",
    "listenability_df.info()\n",
    " \n",
    "track_features = ['track_id', 'duration_ms', 'explicit', 'danceability', \n",
    "            'energy', 'key', 'loudness', 'speechiness', 'acousticness', \n",
    "            'instrumentalness', 'liveness', 'valence', 'tempo', 'release_date']\n",
    "\n",
    "\n",
    "\n",
    "full_df = pd.merge(listenability_df, tracks[track_features], on=['track_id'], how='left')\n",
    "\n",
    "#print(full_df[full_df[\"track_id\"] == \"27Y1N4Q4U3EfDU5Ubw8ws2\"].sort_values(by=\"week\"))\n",
    "print(full_df)\n"
   ]
  }
 ],
 "metadata": {
  "kernelspec": {
   "display_name": "Python 3",
   "language": "python",
   "name": "python3"
  },
  "language_info": {
   "codemirror_mode": {
    "name": "ipython",
    "version": 3
   },
   "file_extension": ".py",
   "mimetype": "text/x-python",
   "name": "python",
   "nbconvert_exporter": "python",
   "pygments_lexer": "ipython3",
   "version": "3.10.12"
  }
 },
 "nbformat": 4,
 "nbformat_minor": 2
}
